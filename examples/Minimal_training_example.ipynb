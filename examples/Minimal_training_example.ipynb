{
 "cells": [
  {
   "cell_type": "markdown",
   "id": "0b0ed62f-d754-4111-b29c-cd636097a9d8",
   "metadata": {},
   "source": [
    "# Introduction\n",
    "\n",
    "This notebook contains a guide on how to train, validate and test the models from the paper on a given data set. In the following, we resort to the simplest, and computationally most efficient example, such that the code can be easily tested on your local machine before running large scale training on a cluster. "
   ]
  },
  {
   "cell_type": "code",
   "execution_count": 3,
   "id": "33c185aa-3572-4af7-9f9d-229611dc40ae",
   "metadata": {},
   "outputs": [],
   "source": [
    "# Do the imports that we need along the way.\n",
    "import e3x\n",
    "import jax\n",
    "import jax.numpy as jnp\n",
    "import numpy as np\n",
    "import optax\n",
    "import pathlib\n",
    "\n",
    "from euclidean_fast_attention import NpzTrainer\n",
    "from euclidean_fast_attention import EnergyModel"
   ]
  },
  {
   "cell_type": "markdown",
   "id": "71c45c7b-2111-46b6-8792-1fc05fef6274",
   "metadata": {},
   "source": [
    "## Loading the Data\n",
    "\n",
    "We start by loading the data set that we want to use for training, validation and testing of the trained model."
   ]
  },
  {
   "cell_type": "code",
   "execution_count": 84,
   "id": "fa79d17f-15fb-4723-b402-8430b7144ae3",
   "metadata": {},
   "outputs": [],
   "source": [
    "# maximal number of graphs, nodes and edges per batch. This must be adapted for chosen accordingly when \n",
    "# going to larger molecules.\n",
    "\n",
    "avg_number_of_nodes_per_graph = 2  # all graphs consist of two atoms.\n",
    "\n",
    "max_num_graphs = 10\n",
    "max_num_nodes = max_num_graphs * avg_number_of_nodes_per_graph + 1\n",
    "\n",
    "# node that this assumes a fully connected graph, which is \n",
    "# not neccessary when the local cutoff is smaller than the largest atomic seperation.\n",
    "max_num_edges = max_num_graphs * (avg_number_of_nodes_per_graph * (avg_number_of_nodes_per_graph - 1)) + 1\n",
    "\n",
    "# For details on batching graphs see https://jraph.readthedocs.io/en/latest/api.html#batching-padding-utilities\n",
    "\n",
    "npztrainer = NpzTrainer(\n",
    "    data_dir=(\n",
    "        pathlib.Path(f'../datasets/two_atoms.npz').expanduser().resolve()\n",
    "    ),\n",
    "    num_train=2000,\n",
    "    num_valid=500,\n",
    "    num_epochs=500,\n",
    "    max_num_nodes=max_num_nodes,\n",
    "    max_num_edges=max_num_edges,\n",
    "    max_num_graphs=max_num_graphs,\n",
    "    energy_unit=1.,\n",
    "    length_unit=1.,\n",
    "    save_interval_steps=250,  # Every 250 iterations the model is validated on the validation set and validation error is logged.\n",
    "    log_interval_steps=10_000,  # Log the training error every 10.000 steps.\n",
    "    use_wandb=False\n",
    ")"
   ]
  },
  {
   "cell_type": "markdown",
   "id": "fb536b5a-dfa7-4403-a622-1ea382b2809e",
   "metadata": {},
   "source": [
    "## Model Initialization\n",
    "\n",
    "Next, we initialize an MPNN model with `model_nl` and without `model_l` EFA block.  "
   ]
  },
  {
   "cell_type": "code",
   "execution_count": 85,
   "id": "ded26ac7-fea3-4b21-8123-16ae2422585a",
   "metadata": {},
   "outputs": [],
   "source": [
    "# Number of layers to use.\n",
    "num_layers = 2\n",
    "\n",
    "# Message passing cutoff.\n",
    "mp_cutoff = 5.\n",
    "\n",
    "# Features dimension of the representations.\n",
    "num_features = 64\n",
    "\n",
    "# In which layers use EFA.\n",
    "efa_use_in_iterations = [0, 1]\n",
    "\n",
    "# Feature dimension of the query and key in EFA.\n",
    "efa_qk_num_features=32\n",
    "\n",
    "# Feature dimension of the value in EFA.\n",
    "efa_v_num_features=16\n",
    "\n",
    "# Maximal atomic separation in the dataset\n",
    "max_length = 10.\n",
    "\n",
    "# Maximal degree in MP update\n",
    "mp_max_degree = 0\n",
    "\n",
    "# A local O3 equivariant MPNN with EFA block.\n",
    "model_nl = EnergyModel(\n",
    "    cutoff=mp_cutoff,\n",
    "    mp_max_degree=mp_max_degree,\n",
    "    num_features=num_features,\n",
    "    num_iterations=num_layers,\n",
    "    era_use_in_iterations=efa_use_in_iterations,\n",
    "    era_lebedev_num=50,\n",
    "    era_include_pseudotensors=False,\n",
    "    era_max_degree=0,\n",
    "    era_qk_num_features=efa_qk_num_features,\n",
    "    era_v_num_features=efa_v_num_features,\n",
    "    era_max_frequency=jnp.pi,\n",
    "    era_max_length=max_length,\n",
    "    atomic_dipole_embedding=False,\n",
    "    era_activation_fn=e3x.nn.gelu,\n",
    "    era_tensor_integration=False,\n",
    "    era_ti_max_degree_sph=None,\n",
    "    era_ti_max_degree=None,\n",
    "    era_ti_parametrize_coupling_paths=False,\n",
    "    era_ti_degree_scaling_constants=None,\n",
    "    output_is_zero_at_init=False\n",
    ")\n",
    "\n",
    "# A standard local O3 equivariant MPNN.\n",
    "model_l = EnergyModel(\n",
    "    num_iterations=num_layers, \n",
    "    num_features=num_features,\n",
    "    mp_max_degree=mp_max_degree,\n",
    "    era_use_in_iterations=None\n",
    ")"
   ]
  },
  {
   "cell_type": "code",
   "execution_count": null,
   "id": "7e48a5a1-4831-4860-81d7-b8bfe530f6ed",
   "metadata": {
    "scrolled": true
   },
   "outputs": [],
   "source": [
    "# Training of the model with EFA\n",
    "\n",
    "# Specify some location where the checkpoints should be saved. \n",
    "ckpt_dir_nl = pathlib.Path('test_run_nl').expanduser().resolve()  # Checkpoint path must be absolute\n",
    "\n",
    "learning_rate = 1e-3\n",
    "\n",
    "# Initialize the learning rate schedule.\n",
    "schedule = optax.exponential_decay(\n",
    "    init_value=learning_rate,\n",
    "    transition_steps=int(\n",
    "        npztrainer.num_train\n",
    "        / (npztrainer.max_num_graphs - 1)\n",
    "        * npztrainer.num_epochs\n",
    "    ),\n",
    "    decay_rate=1e-5 / learning_rate,\n",
    ")\n",
    "\n",
    "# Initialize optimizer.\n",
    "optimizer = optax.adam(learning_rate=schedule)\n",
    "\n",
    "# Train the model.\n",
    "_ = npztrainer.run_training(model_nl, optimizer, ckpt_dir=ckpt_dir_nl)"
   ]
  },
  {
   "cell_type": "code",
   "execution_count": null,
   "id": "2d7621b2-e75d-45a3-8b19-7eb3d5f3fb19",
   "metadata": {
    "scrolled": true
   },
   "outputs": [],
   "source": [
    "# Training of the same model without EFA\n",
    "\n",
    "# Specify some location where the checkpoints should be saved. \n",
    "ckpt_dir_l = pathlib.Path('test_run_l').expanduser().resolve()  # Checkpoint path must be absolute\n",
    "\n",
    "learning_rate = 1e-3\n",
    "\n",
    "# Initialize the learning rate schedule.\n",
    "schedule = optax.exponential_decay(\n",
    "    init_value=learning_rate,\n",
    "    transition_steps=int(\n",
    "        npztrainer.num_train\n",
    "        / (npztrainer.max_num_graphs - 1)\n",
    "        * npztrainer.num_epochs\n",
    "    ),\n",
    "    decay_rate=1e-5 / learning_rate,\n",
    ")\n",
    "\n",
    "# Initialize optimizer.\n",
    "optimizer = optax.adam(learning_rate=schedule)\n",
    "\n",
    "# Train the model.\n",
    "_ = npztrainer.run_training(model_l, optimizer, ckpt_dir=ckpt_dir_l)"
   ]
  },
  {
   "cell_type": "markdown",
   "id": "60608fa9-f442-4917-ab3f-4985bc445003",
   "metadata": {},
   "source": [
    "# Loading from Checkpoint and Simple Energy Scan\n",
    "\n",
    "After trainign we can load the checkpoint from the `ckpt_dir`. \n",
    "\n",
    "**Please note: When you trained on GPU and aim to load on your local machine without GPU, you have to manually remove the `_sharding` file from the `params` and `opt_state` directory in the directory `ckpt_XXX` which can be found in the specified `ckpt_dir`.**"
   ]
  },
  {
   "cell_type": "code",
   "execution_count": 99,
   "id": "50ef2d98-6cad-421b-9218-13191d1819eb",
   "metadata": {},
   "outputs": [],
   "source": [
    "import orbax.checkpoint as ocp\n",
    "import pathlib\n",
    "\n",
    "def load_params(ckpt_dir):\n",
    "    loaded_mngr = ocp.CheckpointManager(\n",
    "        pathlib.Path(ckpt_dir).expanduser().absolute().resolve(),\n",
    "        item_names=('params', 'opt_state'),\n",
    "        item_handlers={\n",
    "            'params': ocp.StandardCheckpointHandler(),\n",
    "            'opt_state': ocp.StandardCheckpointHandler(),\n",
    "        },\n",
    "        options=ocp.CheckpointManagerOptions(step_prefix=\"ckpt\"),\n",
    "    )\n",
    "    restored = loaded_mngr.restore(\n",
    "        loaded_mngr.latest_step(),\n",
    "        args=None\n",
    "    )\n",
    "\n",
    "    return restored['params']"
   ]
  },
  {
   "cell_type": "code",
   "execution_count": 100,
   "id": "c259fc9d-35d0-4904-a128-09bfb59821bc",
   "metadata": {},
   "outputs": [
    {
     "name": "stderr",
     "output_type": "stream",
     "text": [
      "WARNING:absl:`StandardCheckpointHandler` expects a target tree to be provided for restore. Not doing so is generally UNSAFE unless you know the present topology to be the same one as the checkpoint was saved under.\n",
      "WARNING:absl:`StandardCheckpointHandler` expects a target tree to be provided for restore. Not doing so is generally UNSAFE unless you know the present topology to be the same one as the checkpoint was saved under.\n"
     ]
    },
    {
     "name": "stdout",
     "output_type": "stream",
     "text": [
      "Stop testing after n=199 batches since 200 test structures have been reached.\n",
      "Metrics are collected from 200 test structures.\n"
     ]
    }
   ],
   "source": [
    "params_nl = load_params(ckpt_dir_nl)\n",
    "\n",
    "metrics_nl, (energy_pred_nl, forces_pred_nl, energy_true_nl, forces_true_nl, test_graphs_nl) = npztrainer.run_testing(\n",
    "    params=params_nl,\n",
    "    model=model_nl,\n",
    "    num_test=200,\n",
    "    collect_predictions=True,\n",
    "    max_num_graphs=2,  # by only having two graphs per batch (one real graph and one padding graph) this allows to recover the pairwise distances in the next step easily\n",
    "    max_num_nodes=3,\n",
    "    max_num_edges=3\n",
    ")"
   ]
  },
  {
   "cell_type": "code",
   "execution_count": 101,
   "id": "000e469b-81e4-46c2-8e6e-247ecc29bbf8",
   "metadata": {},
   "outputs": [
    {
     "name": "stderr",
     "output_type": "stream",
     "text": [
      "WARNING:absl:`StandardCheckpointHandler` expects a target tree to be provided for restore. Not doing so is generally UNSAFE unless you know the present topology to be the same one as the checkpoint was saved under.\n",
      "WARNING:absl:`StandardCheckpointHandler` expects a target tree to be provided for restore. Not doing so is generally UNSAFE unless you know the present topology to be the same one as the checkpoint was saved under.\n"
     ]
    },
    {
     "name": "stdout",
     "output_type": "stream",
     "text": [
      "Stop testing after n=199 batches since 200 test structures have been reached.\n",
      "Metrics are collected from 200 test structures.\n"
     ]
    }
   ],
   "source": [
    "params_l = load_params(ckpt_dir_l)\n",
    "\n",
    "metrics_l, (energy_pred_l, forces_pred_l, energy_true_l, forces_true_l, test_graphs_l) = npztrainer.run_testing(\n",
    "    params=params_l,\n",
    "    model=model_l,\n",
    "    num_test=200,\n",
    "    collect_predictions=True,\n",
    "    max_num_graphs=2,  # by only having two graphs per batch (one real graph and one padding graph) this allows to recover the pairwise distances in the next step easily\n",
    "    max_num_nodes=3,\n",
    "    max_num_edges=3\n",
    ")"
   ]
  },
  {
   "cell_type": "code",
   "execution_count": 102,
   "id": "ae52c4ec-2cfb-43fc-9e7f-09f6acabb922",
   "metadata": {},
   "outputs": [
    {
     "name": "stdout",
     "output_type": "stream",
     "text": [
      "Metric EFA augmented model\n",
      "{'energy_mae': 0.0005459861131384969, 'energy_mse': 3.5198439718442387e-07, 'energy_rmse': 0.0005932827480137348, 'forces_mae': 0.000508697412442416, 'forces_mse': 1.8256611156175495e-06, 'forces_rmse': 0.0013511702418327332}\n",
      "Metric local model\n",
      "{'energy_mae': 0.04211229085922241, 'energy_mse': 0.0020976990927010775, 'energy_rmse': 0.045800644904375076, 'forces_mae': 0.007669136393815279, 'forces_mse': 0.0001179372047772631, 'forces_rmse': 0.010859889909625053}\n"
     ]
    }
   ],
   "source": [
    "# Print the error on 200 samples from the test set\n",
    "\n",
    "print('Metric EFA augmented model')\n",
    "print(metrics_nl)\n",
    "\n",
    "print('Metric local model')\n",
    "print(metrics_l)"
   ]
  },
  {
   "cell_type": "code",
   "execution_count": 103,
   "id": "b42b2302-5df4-4568-b8ab-6d1eb76748c0",
   "metadata": {},
   "outputs": [],
   "source": [
    "# We need to remove the padded graphs and padding predictions for energies and forces\n",
    "\n",
    "distances_nl = []\n",
    "energies_pred_nl = []\n",
    "energies_true_nl = []\n",
    "\n",
    "for g, ep, et in zip(test_graphs_nl, energy_pred_nl, energy_true_nl):\n",
    "    # Using the fact that there are only two atom (one graph) per batch\n",
    "    dij = np.linalg.norm(g.nodes['positions'][0] - g.nodes['positions'][1], axis=-1)\n",
    "    distances_nl.append(dij)\n",
    "    \n",
    "    graph_mask = jraph.get_graph_padding_mask(g)\n",
    "    energies_pred_nl.append(ep[graph_mask])\n",
    "    energies_true_nl.append(et[graph_mask])\n",
    "\n",
    "energies_pred_nl = np.stack(energies_pred_nl)\n",
    "energies_true_nl = np.stack(energies_true_nl)\n",
    "distances_nl = np.stack(distances_nl, axis=0)"
   ]
  },
  {
   "cell_type": "code",
   "execution_count": 104,
   "id": "04a7c301-8c59-4c7f-9521-79036c8f3a2c",
   "metadata": {},
   "outputs": [],
   "source": [
    "# We need to remove the padded graphs and padding predictions for energies and forces\n",
    "\n",
    "distances_l = []\n",
    "energies_pred_l = []\n",
    "energies_true_l = []\n",
    "\n",
    "for g, ep, et in zip(test_graphs_l, energy_pred_l, energy_true_l):\n",
    "    # Using the fact that there are only two atom (one graph) per batch\n",
    "    dij = np.linalg.norm(g.nodes['positions'][0] - g.nodes['positions'][1], axis=-1)\n",
    "    distances_l.append(dij)\n",
    "    \n",
    "    graph_mask = jraph.get_graph_padding_mask(g)\n",
    "    energies_pred_l.append(ep[graph_mask])\n",
    "    energies_true_l.append(et[graph_mask])\n",
    "\n",
    "energies_pred_l = np.stack(energies_pred_l)\n",
    "energies_true_l = np.stack(energies_true_l)\n",
    "distances_l = np.stack(distances_l, axis=0)"
   ]
  },
  {
   "cell_type": "code",
   "execution_count": 105,
   "id": "028b4cef-57a0-4a62-87a2-c36f783e0f95",
   "metadata": {},
   "outputs": [
    {
     "data": {
      "text/plain": [
       "<matplotlib.legend.Legend at 0x147d1e7b0>"
      ]
     },
     "execution_count": 105,
     "metadata": {},
     "output_type": "execute_result"
    },
    {
     "data": {
      "image/png": "[encoded data removed]",
      "text/plain": [
       "<Figure size 640x480 with 1 Axes>"
      ]
     },
     "metadata": {},
     "output_type": "display_data"
    }
   ],
   "source": [
    "import matplotlib.pyplot as plt\n",
    "sort_idx = np.argsort(distances_l)  # is the same for _l and _nl\n",
    "\n",
    "# This reproduces the curve in Fig. 1B\n",
    "plt.plot(distances_l[sort_idx], energies_true_nl[sort_idx], lw=7.5, c='k', alpha=0.1, label='True')\n",
    "plt.plot(distances_nl[sort_idx], energies_pred_nl[sort_idx], label='MP + EFA')\n",
    "plt.plot(distances_l[sort_idx], energies_pred_l[sort_idx], label='MP')\n",
    "\n",
    "plt.legend()"
   ]
  }
 ],
 "metadata": {
  "kernelspec": {
   "display_name": "euclidean_fast_attention",
   "language": "python",
   "name": "euclidean_fast_attention"
  },
  "language_info": {
   "codemirror_mode": {
    "name": "ipython",
    "version": 3
   },
   "file_extension": ".py",
   "mimetype": "text/x-python",
   "name": "python",
   "nbconvert_exporter": "python",
   "pygments_lexer": "ipython3",
   "version": "3.12.4"
  }
 },
 "nbformat": 4,
 "nbformat_minor": 5
}
